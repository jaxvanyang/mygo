{
 "cells": [
  {
   "cell_type": "code",
   "execution_count": null,
   "id": "57aa3c29-294b-4561-a373-7bcf81db744e",
   "metadata": {},
   "outputs": [],
   "source": [
    "import sys\n",
    "\n",
    "# make mygo available\n",
    "sys.path.insert(0, \"../src\")"
   ]
  },
  {
   "cell_type": "code",
   "execution_count": null,
   "id": "1a2ad562-19ad-48c8-a261-8ece8cf76935",
   "metadata": {},
   "outputs": [],
   "source": [
    "from mygo.datasets import *\n",
    "from mygo.model import *\n",
    "from mygo.encoder import *\n",
    "from torch.utils.data import DataLoader\n",
    "import torch\n",
    "from torch import nn\n",
    "import numpy as np\n",
    "from pathlib import Path"
   ]
  },
  {
   "cell_type": "code",
   "execution_count": null,
   "id": "68ccf8f0-80f8-4185-a138-adff9822ee03",
   "metadata": {},
   "outputs": [],
   "source": [
    "# initialization\n",
    "torch.manual_seed(25565)  # for reproducibility"
   ]
  },
  {
   "cell_type": "code",
   "execution_count": null,
   "id": "50861b9b-4f95-4ccf-bc4f-4ac4b1a12471",
   "metadata": {},
   "outputs": [],
   "source": [
    "# Hyperparameters\n",
    "\n",
    "device = torch.device(\"cuda\" if torch.cuda.is_available() else \"cpu\")\n",
    "\n",
    "game_count = 1000\n",
    "test_game_count = 100\n",
    "board_size = 19\n",
    "encoder = SevenPlaneEncoder(board_size)\n",
    "model = SmallModel(board_size, encoder.plane_count).to(device)\n",
    "model_name = \"small\"\n",
    "\n",
    "loss_fn = nn.CrossEntropyLoss()\n",
    "optimizer = torch.optim.Adadelta(model.parameters())\n",
    "batch_size = 128\n",
    "epochs = 100\n",
    "\n",
    "weight_template = f\"../models/{model_name}-{board_size}x-{encoder.plane_count}p-{game_count}g-{{i}}e_weights.pt\"\n",
    "fig_title = f\"{model_name.capitalize()}Model {board_size}x{board_size} {encoder.plane_count} plane(s) {game_count} games\""
   ]
  },
  {
   "cell_type": "code",
   "execution_count": null,
   "id": "f2c90a3a-948a-4e3b-ae68-1f5d1a755fc0",
   "metadata": {},
   "outputs": [],
   "source": [
    "total_params = sum(p.numel() for p in model.parameters())\n",
    "\n",
    "print(repr(device))\n",
    "print(model)\n",
    "print(f\"parameters: {total_params:,}\")"
   ]
  },
  {
   "cell_type": "code",
   "execution_count": null,
   "id": "0e6fda21-9284-472d-b329-b742b4952414",
   "metadata": {},
   "outputs": [],
   "source": [
    "def transform(data):\n",
    "    if isinstance(data, np.ndarray):\n",
    "        return torch.from_numpy(data).to(device)\n",
    "    elif isinstance(data, (int, tuple, list)):\n",
    "        return torch.tensor(data, device=device)"
   ]
  },
  {
   "cell_type": "code",
   "execution_count": null,
   "id": "bd358b95-68ce-48e6-8daf-b50396bf8c18",
   "metadata": {},
   "outputs": [],
   "source": [
    "train_data = KGSIterableDataset(\n",
    "    root=\"../data/kgs_sgfs\",\n",
    "    train=True,\n",
    "    game_count=game_count,\n",
    "    encoder=encoder,\n",
    "    transform=transform,\n",
    "    target_transform=transform,\n",
    ")\n",
    "\n",
    "test_data = KGSIterableDataset(\n",
    "    root=\"../data/kgs_sgfs\",\n",
    "    train=False,\n",
    "    game_count=test_game_count,\n",
    "    encoder=encoder,\n",
    "    transform=transform,\n",
    "    target_transform=transform,\n",
    ")\n",
    "\n",
    "train_loader = DataLoader(train_data, batch_size=batch_size)\n",
    "test_loader = DataLoader(test_data, batch_size=2 * batch_size)"
   ]
  },
  {
   "cell_type": "code",
   "execution_count": null,
   "id": "1eaa5ab9-681e-4f54-a3c8-c5df7a0d721b",
   "metadata": {},
   "outputs": [],
   "source": [
    "def train_loop(dataloader, model, loss_fn, optimizer):\n",
    "    size = 0\n",
    "    batches = 0\n",
    "    batch_pred = game_count * 187 // batch_size\n",
    "    train_loss, correct = 0.0, 0.0\n",
    "    model.train()\n",
    "\n",
    "    for i, (xs, ys) in enumerate(dataloader):\n",
    "        size += len(xs)\n",
    "        batches += 1\n",
    "        optimizer.zero_grad()\n",
    "\n",
    "        pred = model(xs)\n",
    "        loss = loss_fn(pred, ys)\n",
    "\n",
    "        train_loss += loss.item()\n",
    "        correct += (pred.argmax(1) == ys).type(torch.float).sum().item()\n",
    "\n",
    "        loss.backward()\n",
    "        optimizer.step()\n",
    "\n",
    "        if i % 500 == 0:\n",
    "            print(f\"loss: {loss.item():>7f} [{i + 1:>4d}/~{batch_pred:>4d}]\")\n",
    "\n",
    "    train_loss /= batches\n",
    "    accuracy = correct / size * 100\n",
    "    print(f\"\\nTrain: accuracy: {accuracy:>.3f}%, loss: {train_loss:>7f}\")\n",
    "\n",
    "    return train_loss, accuracy\n",
    "\n",
    "\n",
    "def test_loop(dataloader, model, loss_fn):\n",
    "    size = 0\n",
    "    batches = 0\n",
    "    test_loss, correct = 0.0, 0.0\n",
    "    model.eval()\n",
    "\n",
    "    with torch.no_grad():\n",
    "        for xs, ys in dataloader:\n",
    "            size += len(xs)\n",
    "            batches += 1\n",
    "\n",
    "            pred = model(xs)\n",
    "            test_loss += loss_fn(pred, ys).item()\n",
    "            correct += (pred.argmax(1) == ys).type(torch.float).sum().item()\n",
    "\n",
    "    test_loss /= batches\n",
    "    accuracy = correct / size * 100\n",
    "    print(f\"Test: accuracy: {accuracy:>.3f}%, loss: {test_loss:>7f}\")\n",
    "\n",
    "    return test_loss, accuracy"
   ]
  },
  {
   "cell_type": "code",
   "execution_count": null,
   "id": "01b62d0f-e7bb-4568-8023-6f583745a55c",
   "metadata": {},
   "outputs": [],
   "source": [
    "# record for plotting\n",
    "xs = []\n",
    "train_losses, test_losses = [], []\n",
    "train_accs, test_accs = [], []"
   ]
  },
  {
   "cell_type": "code",
   "execution_count": null,
   "id": "740173ed-6499-48ac-8c6a-6ba5385a8fc9",
   "metadata": {
    "scrolled": true
   },
   "outputs": [],
   "source": [
    "%%time\n",
    "\n",
    "i_start = 1\n",
    "for i in range(epochs, 1, -1):\n",
    "    weight_file = Path(weight_template.format(i=i))\n",
    "    if weight_file.is_file():\n",
    "        print(f\"Loading {weight_file}\")\n",
    "        model.load_state_dict(torch.load(weight_file))\n",
    "        i_start = i + 1\n",
    "        break\n",
    "\n",
    "for i in range(i_start, epochs + 1):\n",
    "    print(f\"Epoch {i}\\n{'-' * 25}\")\n",
    "\n",
    "    train_loss, train_accuracy = train_loop(train_loader, model, loss_fn, optimizer)\n",
    "    test_loss, test_accuracy = test_loop(test_loader, model, loss_fn)\n",
    "    torch.save(model.state_dict(), Path(weight_template.format(i=i)))\n",
    "\n",
    "    # only save the last model file\n",
    "    prev_weight_file = Path(weight_template.format(i=i - 1))\n",
    "    if prev_weight_file.is_file():\n",
    "        print(f\"Removing previous model file: {prev_weight_file}\")\n",
    "        prev_weight_file.unlink()\n",
    "\n",
    "    xs.append(i)\n",
    "    train_losses.append(train_loss)\n",
    "    train_accs.append(train_accuracy)\n",
    "    test_losses.append(test_loss)\n",
    "    test_accs.append(test_accuracy)\n",
    "    print()"
   ]
  },
  {
   "cell_type": "code",
   "execution_count": null,
   "id": "fd659484-8854-4cb0-9cc8-7b8e50441bbc",
   "metadata": {},
   "outputs": [],
   "source": [
    "print(\n",
    "    f\"{fig_title=}\\n{xs=}\\n{train_losses=}\\n{train_accs=}\\n{test_losses=}\\n{test_accs=}\"\n",
    ")"
   ]
  },
  {
   "cell_type": "code",
   "execution_count": null,
   "id": "ffaf7a88-c28d-4289-a261-2ff484d56e00",
   "metadata": {},
   "outputs": [],
   "source": [
    "import matplotlib.pyplot as plt\n",
    "\n",
    "plt.style.use(\"dark_background\")"
   ]
  },
  {
   "cell_type": "code",
   "execution_count": null,
   "id": "ee511048-60a1-46c8-9240-f89806d0276b",
   "metadata": {},
   "outputs": [],
   "source": [
    "fig, axs = plt.subplots(1, 2, figsize=(8, 4))\n",
    "\n",
    "fig.suptitle(fig_title)\n",
    "\n",
    "axs[0].set_xlabel(\"Epoch\")\n",
    "axs[0].set_ylabel(\"Loss\")\n",
    "axs[1].set_xlabel(\"Epoch\")\n",
    "axs[1].set_ylabel(\"Accuracy (%)\")\n",
    "\n",
    "axs[0].plot(xs, train_losses, label=\"train\")\n",
    "axs[0].plot(xs, test_losses, label=\"test\")\n",
    "axs[0].legend()\n",
    "axs[1].plot(xs, train_accs, label=\"train\")\n",
    "axs[1].plot(xs, test_accs, label=\"test\")\n",
    "axs[1].legend()\n",
    "\n",
    "plt.show()"
   ]
  }
 ],
 "metadata": {
  "kernelspec": {
   "display_name": "Python 3 (ipykernel)",
   "language": "python",
   "name": "python3"
  },
  "language_info": {
   "codemirror_mode": {
    "name": "ipython",
    "version": 3
   },
   "file_extension": ".py",
   "mimetype": "text/x-python",
   "name": "python",
   "nbconvert_exporter": "python",
   "pygments_lexer": "ipython3",
   "version": "3.12.7"
  }
 },
 "nbformat": 4,
 "nbformat_minor": 5
}
