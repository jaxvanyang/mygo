{
 "cells": [
  {
   "cell_type": "code",
   "execution_count": 1,
   "id": "aa7b8dea-fa72-4eb8-ad75-7f9b037d6037",
   "metadata": {},
   "outputs": [],
   "source": [
    "# append the module root to Python path\n",
    "import sys\n",
    "\n",
    "sys.path.append(\"../src\")"
   ]
  },
  {
   "cell_type": "code",
   "execution_count": 2,
   "id": "1a2ad562-19ad-48c8-a261-8ece8cf76935",
   "metadata": {},
   "outputs": [],
   "source": [
    "from mygo.datasets import MCTSDataset\n",
    "from torch.utils.data import DataLoader\n",
    "import torch\n",
    "from torch import nn"
   ]
  },
  {
   "cell_type": "code",
   "execution_count": 3,
   "id": "68ccf8f0-80f8-4185-a138-adff9822ee03",
   "metadata": {},
   "outputs": [
    {
     "data": {
      "text/plain": [
       "<torch._C.Generator at 0x7f36d6516eb0>"
      ]
     },
     "execution_count": 3,
     "metadata": {},
     "output_type": "execute_result"
    }
   ],
   "source": [
    "torch.manual_seed(25565)  # for reproducibility"
   ]
  },
  {
   "cell_type": "code",
   "execution_count": 4,
   "id": "79916dfc-c216-4f78-bca5-645e4c3351b0",
   "metadata": {},
   "outputs": [],
   "source": [
    "train_data = MCTSDataset(\n",
    "    root=\"../data\",\n",
    "    train=True,\n",
    "    transform=torch.from_numpy,\n",
    "    target_transform=torch.from_numpy,\n",
    ")\n",
    "\n",
    "test_data = MCTSDataset(\n",
    "    root=\"../data\",\n",
    "    train=False,\n",
    "    transform=torch.from_numpy,\n",
    "    target_transform=torch.from_numpy,\n",
    ")"
   ]
  },
  {
   "cell_type": "code",
   "execution_count": 5,
   "id": "9bb285c5-58f7-4701-9910-f3685a76bef5",
   "metadata": {},
   "outputs": [],
   "source": [
    "train_loader = DataLoader(train_data, batch_size=16, shuffle=True)\n",
    "test_loader = DataLoader(test_data, batch_size=16, shuffle=True)"
   ]
  },
  {
   "cell_type": "code",
   "execution_count": 6,
   "id": "7ec356e9-c3db-469c-96ef-40e0964da266",
   "metadata": {},
   "outputs": [
    {
     "name": "stdout",
     "output_type": "stream",
     "text": [
      "TinyModel(\n",
      "  (flatten): Flatten(start_dim=1, end_dim=-1)\n",
      "  (linear1): Linear(in_features=81, out_features=128, bias=True)\n",
      "  (activation): ReLU()\n",
      "  (linear2): Linear(in_features=128, out_features=81, bias=True)\n",
      "  (softmax): Softmax(dim=0)\n",
      ")\n"
     ]
    }
   ],
   "source": [
    "class TinyModel(nn.Module):\n",
    "    \"\"\"Tiny model for 9x9 game.\"\"\"\n",
    "\n",
    "    def __init__(self):\n",
    "        super().__init__()\n",
    "\n",
    "        self.flatten = nn.Flatten()\n",
    "        self.linear1 = nn.Linear(81, 128)\n",
    "        self.activation = nn.ReLU()\n",
    "        self.linear2 = nn.Linear(128, 81)\n",
    "        self.softmax = nn.Softmax(dim=0)\n",
    "\n",
    "    def forward(self, x):\n",
    "        x = self.flatten(x)\n",
    "        x = self.linear1(x)\n",
    "        x = self.activation(x)\n",
    "        x = self.linear2(x)\n",
    "        x = self.softmax(x)\n",
    "\n",
    "        return x\n",
    "\n",
    "\n",
    "model = TinyModel()\n",
    "print(model)"
   ]
  },
  {
   "cell_type": "code",
   "execution_count": 7,
   "id": "1eaa5ab9-681e-4f54-a3c8-c5df7a0d721b",
   "metadata": {},
   "outputs": [],
   "source": [
    "def train_loop(dataloader, model, loss_fn, optimizer):\n",
    "    batches = len(dataloader)\n",
    "    model.train()\n",
    "    for i, (xs, ys) in enumerate(dataloader):\n",
    "        optimizer.zero_grad()\n",
    "\n",
    "        pred = model(xs)\n",
    "        loss = loss_fn(pred, ys.flatten(start_dim=1))\n",
    "\n",
    "        loss.backward()\n",
    "        optimizer.step()\n",
    "\n",
    "        if i % 10 == 9:\n",
    "            print(f\"loss: {loss.item():>7f} [{i + 1:>2d}/{batches:>2d}]\")\n",
    "\n",
    "\n",
    "def test_loop(dataloader, model, loss_fn):\n",
    "    size = len(dataloader.dataset)\n",
    "    batches = len(dataloader)\n",
    "    model.eval()\n",
    "    test_loss, correct = 0, 0\n",
    "\n",
    "    with torch.no_grad():\n",
    "        for xs, ys in dataloader:\n",
    "            pred = model(xs)\n",
    "            test_loss += loss_fn(pred, ys.flatten(start_dim=1)).item()\n",
    "            correct += (\n",
    "                (pred.argmax(1) == ys.flatten(start_dim=1).argmax(1))\n",
    "                .type(torch.float)\n",
    "                .sum()\n",
    "                .item()\n",
    "            )\n",
    "\n",
    "    test_loss /= batches\n",
    "    accuracy = correct / size * 100\n",
    "\n",
    "    print(f\"\\nTest Accuracy: {correct:>.1f}%\\nAvg Loss: {test_loss:>7f}\\n\")"
   ]
  },
  {
   "cell_type": "code",
   "execution_count": 8,
   "id": "8f27a19c-b939-436f-8d17-f980c07409f1",
   "metadata": {
    "scrolled": true
   },
   "outputs": [
    {
     "name": "stdout",
     "output_type": "stream",
     "text": [
      "Epoch 1\n",
      "-------------------------\n",
      "loss: 4.395415 [10/39]\n",
      "loss: 4.393528 [20/39]\n",
      "loss: 4.394171 [30/39]\n",
      "\n",
      "Test Accuracy: 2.0%\n",
      "Avg Loss: 4.394043\n",
      "\n",
      "Epoch 2\n",
      "-------------------------\n",
      "loss: 4.392640 [10/39]\n",
      "loss: 4.395918 [20/39]\n",
      "loss: 4.393864 [30/39]\n",
      "\n",
      "Test Accuracy: 3.0%\n",
      "Avg Loss: 4.394972\n",
      "\n",
      "Epoch 3\n",
      "-------------------------\n",
      "loss: 4.387228 [10/39]\n",
      "loss: 4.384843 [20/39]\n",
      "loss: 4.383787 [30/39]\n",
      "\n",
      "Test Accuracy: 3.0%\n",
      "Avg Loss: 4.394781\n",
      "\n",
      "Epoch 4\n",
      "-------------------------\n",
      "loss: 4.388971 [10/39]\n",
      "loss: 4.389266 [20/39]\n",
      "loss: 4.383156 [30/39]\n",
      "\n",
      "Test Accuracy: 2.0%\n",
      "Avg Loss: 4.397072\n",
      "\n",
      "Epoch 5\n",
      "-------------------------\n",
      "loss: 4.389380 [10/39]\n",
      "loss: 4.387064 [20/39]\n",
      "loss: 4.384323 [30/39]\n",
      "\n",
      "Test Accuracy: 0.0%\n",
      "Avg Loss: 4.398990\n",
      "\n",
      "Epoch 6\n",
      "-------------------------\n",
      "loss: 4.381176 [10/39]\n",
      "loss: 4.383199 [20/39]\n",
      "loss: 4.377524 [30/39]\n",
      "\n",
      "Test Accuracy: 0.0%\n",
      "Avg Loss: 4.393631\n",
      "\n",
      "Epoch 7\n",
      "-------------------------\n",
      "loss: 4.371175 [10/39]\n",
      "loss: 4.373052 [20/39]\n",
      "loss: 4.372859 [30/39]\n",
      "\n",
      "Test Accuracy: 0.0%\n",
      "Avg Loss: 4.395803\n",
      "\n",
      "Epoch 8\n",
      "-------------------------\n",
      "loss: 4.366950 [10/39]\n",
      "loss: 4.363099 [20/39]\n",
      "loss: 4.367374 [30/39]\n",
      "\n",
      "Test Accuracy: 1.0%\n",
      "Avg Loss: 4.392168\n",
      "\n",
      "Epoch 9\n",
      "-------------------------\n",
      "loss: 4.358429 [10/39]\n",
      "loss: 4.366584 [20/39]\n",
      "loss: 4.378675 [30/39]\n",
      "\n",
      "Test Accuracy: 1.0%\n",
      "Avg Loss: 4.398546\n",
      "\n",
      "Epoch 10\n",
      "-------------------------\n",
      "loss: 4.357360 [10/39]\n",
      "loss: 4.366536 [20/39]\n",
      "loss: 4.358700 [30/39]\n",
      "\n",
      "Test Accuracy: 1.0%\n",
      "Avg Loss: 4.389342\n",
      "\n"
     ]
    }
   ],
   "source": [
    "loss_fn = nn.CrossEntropyLoss()\n",
    "optimizer = torch.optim.Adadelta(model.parameters())\n",
    "epoches = 10\n",
    "\n",
    "for i in range(epoches):\n",
    "    print(f\"Epoch {i + 1}\\n{'-' * 25}\")\n",
    "    train_loop(train_loader, model, loss_fn, optimizer)\n",
    "    test_loop(test_loader, model, loss_fn)"
   ]
  }
 ],
 "metadata": {
  "kernelspec": {
   "display_name": "Python 3 (ipykernel)",
   "language": "python",
   "name": "python3"
  },
  "language_info": {
   "codemirror_mode": {
    "name": "ipython",
    "version": 3
   },
   "file_extension": ".py",
   "mimetype": "text/x-python",
   "name": "python",
   "nbconvert_exporter": "python",
   "pygments_lexer": "ipython3",
   "version": "3.12.3"
  }
 },
 "nbformat": 4,
 "nbformat_minor": 5
}
